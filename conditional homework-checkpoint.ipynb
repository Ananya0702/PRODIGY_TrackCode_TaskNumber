{
 "cells": [
  {
   "cell_type": "code",
   "execution_count": 1,
   "id": "9d8970d3-dd1b-4ef2-9a52-8b2a88149720",
   "metadata": {},
   "outputs": [
    {
     "name": "stdin",
     "output_type": "stream",
     "text": [
      "enter the marks 45\n"
     ]
    },
    {
     "name": "stdout",
     "output_type": "stream",
     "text": [
      "gradeD\n"
     ]
    }
   ],
   "source": [
    "#grading system\n",
    "#100-90=gradeA\n",
    "#89-75=gradeB\n",
    "#74-60=gradeC\n",
    "#59-35=gradeD\n",
    "#less than 35 = Fail\n",
    "marks = int(input(\"enter the marks\"))\n",
    "if marks < 0 or marks>100:\n",
    "    print(\"marks must be between 0 and 100\")\n",
    "elif marks>=90:\n",
    "    print(\"gradeA\")\n",
    "elif marks>=74:\n",
    "    print(\"gradeB\")\n",
    "elif marks>=59:\n",
    "    print(\"gradeC\")\n",
    "elif marks >=35:\n",
    "    print(\"gradeD\")\n",
    "elif marks<35:\n",
    "    print(\"you have failed the examination\")"
   ]
  },
  {
   "cell_type": "code",
   "execution_count": 18,
   "id": "86af3a6b-4bf1-40cc-9053-a2574720dda0",
   "metadata": {},
   "outputs": [
    {
     "name": "stdin",
     "output_type": "stream",
     "text": [
      "enter the marks 65\n"
     ]
    },
    {
     "name": "stdout",
     "output_type": "stream",
     "text": [
      "gradeC\n"
     ]
    }
   ],
   "source": [
    "#grading system\n",
    "#100-90=gradeA\n",
    "#89-75=gradeB\n",
    "#74-60=gradeC\n",
    "#59-35=gradeD\n",
    "#less than 35 = Fail\n",
    "marks = int(input(\"enter the marks\"))\n",
    "if marks < 0 or marks>100:\n",
    "    print(\"marks must be between 0 and 100\")\n",
    "elif marks>=90:\n",
    "    print(\"gradeA\")\n",
    "elif marks>=74:\n",
    "    print(\"gradeB\")\n",
    "elif marks>=59:\n",
    "    print(\"gradeC\")\n",
    "elif marks >=35:\n",
    "    print(\"gradeD\")\n",
    "elif marks<35:\n",
    "    print(\"you have failed the examination\")"
   ]
  },
  {
   "cell_type": "code",
   "execution_count": 7,
   "id": "240a15db-31ec-4161-bcbe-9ca115950a7f",
   "metadata": {},
   "outputs": [
    {
     "name": "stdin",
     "output_type": "stream",
     "text": [
      "enter the year you want to check  2024\n"
     ]
    },
    {
     "name": "stdout",
     "output_type": "stream",
     "text": [
      "is leap year \n"
     ]
    }
   ],
   "source": [
    "# leap year :\n",
    "# condition for leap year \n",
    "#divisible by 4 or if century end then divisible by 400\n",
    "year=int(input(\"enter the year you want to check \"))\n",
    "if year%4==0 :\n",
    "    print(\"is leap year \")\n",
    "    if year%400==0:\n",
    "        print(\"is a leap year\")\n",
    "else :\n",
    "    print(\"not a leap year \")"
   ]
  },
  {
   "cell_type": "code",
   "execution_count": 8,
   "id": "a87bfa5d-148d-4f15-b50a-82f3eb0cef01",
   "metadata": {},
   "outputs": [
    {
     "name": "stdin",
     "output_type": "stream",
     "text": [
      "enter the year you want to check  2000\n"
     ]
    },
    {
     "name": "stdout",
     "output_type": "stream",
     "text": [
      "is leap year \n",
      "is a leap year\n"
     ]
    }
   ],
   "source": [
    "# leap year :\n",
    "# condition for leap year \n",
    "#divisible by 4 or if century end then divisible by 400\n",
    "year=int(input(\"enter the year you want to check \"))\n",
    "if year%4==0 :\n",
    "    print(\"is leap year \")\n",
    "    if year%400==0:\n",
    "        print(\"is a leap year\")\n",
    "else :\n",
    "    print(\"not a leap year \")"
   ]
  },
  {
   "cell_type": "code",
   "execution_count": 9,
   "id": "ea5d7fac-5b93-4439-a73b-02d5759a81a0",
   "metadata": {},
   "outputs": [
    {
     "name": "stdin",
     "output_type": "stream",
     "text": [
      "enter the year you want to check  2024\n"
     ]
    },
    {
     "name": "stdout",
     "output_type": "stream",
     "text": [
      "is leap year \n"
     ]
    }
   ],
   "source": [
    "# leap year :\n",
    "# condition for leap year \n",
    "#divisible by 4 or if century end then divisible by 400\n",
    "year=int(input(\"enter the year you want to check \"))\n",
    "if year%4==0 or year%400==0:\n",
    "    print(\"is leap year \")\n",
    "else :\n",
    "    print(\"not a leap year \")"
   ]
  },
  {
   "cell_type": "code",
   "execution_count": 11,
   "id": "9265ea65-fc55-4eff-8fb8-2c176e0a2d6c",
   "metadata": {},
   "outputs": [
    {
     "name": "stdin",
     "output_type": "stream",
     "text": [
      "enter the year you want to check  1996\n"
     ]
    },
    {
     "name": "stdout",
     "output_type": "stream",
     "text": [
      "is leap year \n"
     ]
    }
   ],
   "source": [
    "# leap year :\n",
    "# condition for leap year \n",
    "#divisible by 4 or if century end then divisible by 400\n",
    "year=int(input(\"enter the year you want to check \"))\n",
    "if year%4==0 or year%400==0:\n",
    "    print(\"is leap year \")\n",
    "else :\n",
    "    print(\"not a leap year \")"
   ]
  },
  {
   "cell_type": "code",
   "execution_count": 13,
   "id": "ef3f5199-b4b8-4e46-b8c7-d790187010f4",
   "metadata": {},
   "outputs": [
    {
     "name": "stdin",
     "output_type": "stream",
     "text": [
      "enter the year you want to check  2016\n"
     ]
    },
    {
     "name": "stdout",
     "output_type": "stream",
     "text": [
      "is leap year \n"
     ]
    }
   ],
   "source": [
    "# leap year :\n",
    "# condition for leap year \n",
    "#divisible by 4 or if century end then divisible by 400\n",
    "year=int(input(\"enter the year you want to check \"))\n",
    "if year%4==0 or year%400==0:\n",
    "    print(\"is leap year \")\n",
    "else :\n",
    "    print(\"not a leap year \")"
   ]
  },
  {
   "cell_type": "code",
   "execution_count": 14,
   "id": "f8b2d85c-3fbd-48df-b647-8cd43c5b8571",
   "metadata": {},
   "outputs": [
    {
     "name": "stdin",
     "output_type": "stream",
     "text": [
      "enter the year you want to check  2015\n"
     ]
    },
    {
     "name": "stdout",
     "output_type": "stream",
     "text": [
      "not a leap year \n"
     ]
    }
   ],
   "source": [
    "# leap year :\n",
    "# condition for leap year \n",
    "#divisible by 4 or if century end then divisible by 400\n",
    "year=int(input(\"enter the year you want to check \"))\n",
    "if year%4==0 or year%400==0:\n",
    "    print(\"is leap year \")\n",
    "else :\n",
    "    print(\"not a leap year \")"
   ]
  },
  {
   "cell_type": "code",
   "execution_count": 22,
   "id": "ccaba6e5-056a-4372-93d9-fe14150e6250",
   "metadata": {},
   "outputs": [
    {
     "name": "stdin",
     "output_type": "stream",
     "text": [
      "enter the year you want to check  3000\n"
     ]
    },
    {
     "name": "stdout",
     "output_type": "stream",
     "text": [
      "is leap year \n"
     ]
    }
   ],
   "source": [
    "# leap year :\n",
    "# condition for leap year \n",
    "#divisible by 4 or if century end then divisible by 400\n",
    "\n",
    "year=int(input(\"enter the year you want to check \"))\n",
    "if year%4==0 or year%400==0:\n",
    "    print(\"is leap year \")\n",
    "else :\n",
    "    print(\"not a leap year \") # 3000 will not be a leap year "
   ]
  },
  {
   "cell_type": "code",
   "execution_count": 26,
   "id": "803ac6d9-4768-4c33-b13e-7367c2acc83a",
   "metadata": {},
   "outputs": [
    {
     "name": "stdin",
     "output_type": "stream",
     "text": [
      "enter the year you want to check  4000\n"
     ]
    },
    {
     "name": "stdout",
     "output_type": "stream",
     "text": [
      "is leap year \n"
     ]
    }
   ],
   "source": [
    "# leap year :\n",
    "# condition for leap year \n",
    "#divisible by 4 or if century end then divisible by 400\n",
    "#both the condition must be satisfied for the following year to be a leap year \n",
    "year=int(input(\"enter the year you want to check \"))\n",
    "if year%4==0 and year%400==0:\n",
    "    print(\"is leap year \")\n",
    "else :\n",
    "    print(\"not a leap year \")"
   ]
  },
  {
   "cell_type": "code",
   "execution_count": 25,
   "id": "00c45109-6461-4215-89b8-8cb59763a7bc",
   "metadata": {},
   "outputs": [
    {
     "name": "stdin",
     "output_type": "stream",
     "text": [
      "enter the year you want to check  3000\n"
     ]
    },
    {
     "name": "stdout",
     "output_type": "stream",
     "text": [
      "not a leap year \n"
     ]
    }
   ],
   "source": [
    "# leap year :\n",
    "# condition for leap year \n",
    "#divisible by 4 or if century end then divisible by 400\n",
    "year=int(input(\"enter the year you want to check \"))\n",
    "if year%4==0 and year%400==0:\n",
    "    print(\"is leap year \")\n",
    "else :\n",
    "    print(\"not a leap year \")"
   ]
  },
  {
   "cell_type": "code",
   "execution_count": 28,
   "id": "5ab88b0b-8d62-4ec8-aee0-1a7ffb6e8d42",
   "metadata": {},
   "outputs": [
    {
     "name": "stdin",
     "output_type": "stream",
     "text": [
      "enter the year you want to check  2035\n"
     ]
    },
    {
     "name": "stdout",
     "output_type": "stream",
     "text": [
      "not a leap year \n"
     ]
    }
   ],
   "source": [
    "# leap year :\n",
    "# condition for leap year \n",
    "#divisible by 4 or if century end then divisible by 400\n",
    "year=int(input(\"enter the year you want to check \"))\n",
    "if year%4==0 and year%400==0:\n",
    "    print(\"is leap year \")\n",
    "else :\n",
    "    print(\"not a leap year \")\n"
   ]
  },
  {
   "cell_type": "code",
   "execution_count": 30,
   "id": "ba5cd7ec-ba52-4e76-90a7-a63c5dcd8048",
   "metadata": {},
   "outputs": [
    {
     "name": "stdin",
     "output_type": "stream",
     "text": [
      "enter the year you want to check  2021\n"
     ]
    },
    {
     "name": "stdout",
     "output_type": "stream",
     "text": [
      "not a leap year \n"
     ]
    }
   ],
   "source": [
    "# leap year :\n",
    "# condition for leap year \n",
    "#divisible by 4 or if century end then divisible by 400\n",
    "year=int(input(\"enter the year you want to check \"))\n",
    "if year%4==0 and year%400==0:\n",
    "    print(\"is leap year \")\n",
    "else :\n",
    "    print(\"not a leap year \")\n",
    "    "
   ]
  },
  {
   "cell_type": "code",
   "execution_count": 19,
   "id": "52fabef9-9c8e-42a2-afb9-dac9a7d5856f",
   "metadata": {},
   "outputs": [
    {
     "name": "stdin",
     "output_type": "stream",
     "text": [
      "enter the length of first side 5\n",
      "enter the length of second side 5\n",
      "ener the length of third side 5\n"
     ]
    },
    {
     "name": "stdout",
     "output_type": "stream",
     "text": [
      "triangle so formed willbe an equilateral triangle\n"
     ]
    }
   ],
   "source": [
    "#triangle type\n",
    "#all side equal= equilateral\n",
    "#two= isosceles\n",
    "#no side = scalen\n",
    "#a= side 1, b= side 2, c = side3\n",
    "a=int(input(\"enter the length of first side\"))\n",
    "b=int(input(\"enter the length of second side\"))\n",
    "c=int(input(\"ener the length of third side\"))\n",
    "if a==b and b==c and c==a:\n",
    "    print(\"triangle so formed willbe an equilateral triangle\")\n",
    "elif a==b or b==c or c==a:\n",
    "    print(\"triangle so formed will be an isoceles triangle\")\n",
    "else :\n",
    "    print(\"triangle so formed will be  a scalen triangle\")"
   ]
  },
  {
   "cell_type": "code",
   "execution_count": 20,
   "id": "070309e2-d5ee-41bc-9c71-97bd21fb9185",
   "metadata": {},
   "outputs": [
    {
     "name": "stdin",
     "output_type": "stream",
     "text": [
      "enter the length of first side 6\n",
      "enter the length of second side 7\n",
      "ener the length of third side 8\n"
     ]
    },
    {
     "name": "stdout",
     "output_type": "stream",
     "text": [
      "triangle so formed will be  a scalen triangle\n"
     ]
    }
   ],
   "source": [
    "#triangle type\n",
    "#all side equal= equilateral\n",
    "#two= isosceles\n",
    "#no side = scalen\n",
    "#a= side 1, b= side 2, c = side3\n",
    "a=int(input(\"enter the length of first side\"))\n",
    "b=int(input(\"enter the length of second side\"))\n",
    "c=int(input(\"ener the length of third side\"))\n",
    "if a==b and b==c and c==a:\n",
    "    print(\"triangle so formed willbe an equilateral triangle\")\n",
    "elif a==b or b==c or c==a:\n",
    "    print(\"triangle so formed will be an isoceles triangle\")\n",
    "else :\n",
    "    print(\"triangle so formed will be  a scalen triangle\")"
   ]
  },
  {
   "cell_type": "code",
   "execution_count": 21,
   "id": "1388a5e8-4b6a-408c-84a4-888142c779e3",
   "metadata": {},
   "outputs": [
    {
     "name": "stdin",
     "output_type": "stream",
     "text": [
      "enter the length of first side 5\n",
      "enter the length of second side 5\n",
      "ener the length of third side 6\n"
     ]
    },
    {
     "name": "stdout",
     "output_type": "stream",
     "text": [
      "triangle so formed will be an isoceles triangle\n"
     ]
    }
   ],
   "source": [
    "#triangle type\n",
    "#all side equal= equilateral\n",
    "#two= isosceles\n",
    "#no side = scalen\n",
    "#a= side 1, b= side 2, c = side3\n",
    "a=int(input(\"enter the length of first side\"))\n",
    "b=int(input(\"enter the length of second side\"))\n",
    "c=int(input(\"ener the length of third side\"))\n",
    "if a==b and b==c and c==a:\n",
    "    print(\"triangle so formed willbe an equilateral triangle\")\n",
    "elif a==b or b==c or c==a:\n",
    "    print(\"triangle so formed will be an isoceles triangle\")\n",
    "else :\n",
    "    print(\"triangle so formed will be  a scalen triangle\")"
   ]
  },
  {
   "cell_type": "code",
   "execution_count": 2,
   "id": "91175a17-6cf4-4153-809b-96a53bed7530",
   "metadata": {},
   "outputs": [
    {
     "name": "stdin",
     "output_type": "stream",
     "text": [
      "enter the length of first side 5\n",
      "enter the length of second side 6\n",
      "ener the length of third side 7\n"
     ]
    },
    {
     "name": "stdout",
     "output_type": "stream",
     "text": [
      "triangle so formed will be an scalen triangle\n"
     ]
    }
   ],
   "source": [
    "#triangle type\n",
    "#all side equal= equilateral\n",
    "#two= isosceles\n",
    "#no side = scalen\n",
    "#a= side 1, b= side 2, c = side3\n",
    "a=int(input(\"enter the length of first side\"))\n",
    "b=int(input(\"enter the length of second side\"))\n",
    "c=int(input(\"ener the length of third side\"))\n",
    "if a==b and b==c and c==a:\n",
    "    print(\"triangle so formed willbe an equilateral triangle\")\n",
    "elif a==b or b==c or c==a:\n",
    "    print(\"triangle so formed will be an isoceles triangle\")\n",
    "elif a!=b and b!=c and c!=a:\n",
    "    print(\"triangle so formed will be an scalen triangle\")"
   ]
  },
  {
   "cell_type": "code",
   "execution_count": 3,
   "id": "81531a6e-b32d-48fc-864b-170e53657950",
   "metadata": {},
   "outputs": [
    {
     "name": "stdin",
     "output_type": "stream",
     "text": [
      "enter the year you want to check  1900\n"
     ]
    },
    {
     "name": "stdout",
     "output_type": "stream",
     "text": [
      "not a leap year \n"
     ]
    }
   ],
   "source": [
    "# leap year :\n",
    "# condition for leap year \n",
    "#divisible by 4 or if century end then divisible by 400\n",
    "year=int(input(\"enter the year you want to check \"))\n",
    "if year%4==0 and year%400==0:\n",
    "    print(\"is leap year \")\n",
    "else :\n",
    "    print(\"not a leap year \")\n"
   ]
  },
  {
   "cell_type": "code",
   "execution_count": 9,
   "id": "e7b080a8-eb6c-4e04-9f7b-e5038cbf3ae4",
   "metadata": {},
   "outputs": [
    {
     "name": "stdin",
     "output_type": "stream",
     "text": [
      "enter the year you want to check  2016\n"
     ]
    },
    {
     "name": "stdout",
     "output_type": "stream",
     "text": [
      "not a leap year \n"
     ]
    }
   ],
   "source": [
    "# leap year :\n",
    "# condition for leap year \n",
    "#divisible by 4 or if century end then divisible by 400\n",
    "year=int(input(\"enter the year you want to check \"))\n",
    "if year%4==0 and year%400==0:\n",
    "    print(\"is leap year \")\n",
    "else :\n",
    "    print(\"not a leap year \")"
   ]
  },
  {
   "cell_type": "code",
   "execution_count": null,
   "id": "f76156e0-b9b5-4767-ba14-6c83f79d0623",
   "metadata": {},
   "outputs": [],
   "source": [
    "# leap year :\n",
    "# condition for leap year \n",
    "#divisible by 4 or if century end then divisible by 400"
   ]
  },
  {
   "cell_type": "code",
   "execution_count": 17,
   "id": "a70e1881-0485-44bc-9382-808bfc2c9909",
   "metadata": {},
   "outputs": [
    {
     "name": "stdin",
     "output_type": "stream",
     "text": [
      "enter the year you want to check  3000\n"
     ]
    },
    {
     "name": "stdout",
     "output_type": "stream",
     "text": [
      "not a leap year \n"
     ]
    }
   ],
   "source": [
    "# leap year :\n",
    "# condition for leap year \n",
    "#divisible by 4 or if century end then divisible by 400\n",
    "year=int(input(\"enter the year you want to check \"))\n",
    "if year%400==0 :\n",
    "    if year%4==0:\n",
    "        print(\"is a leap year\")\n",
    "else :\n",
    "    print(\"not a leap year \")"
   ]
  },
  {
   "cell_type": "code",
   "execution_count": null,
   "id": "509eb98a-31a3-4588-b293-53a9b47ea2b7",
   "metadata": {},
   "outputs": [],
   "source": [
    "if a + b <= c or a + c <= b or b + c <= a:"
   ]
  },
  {
   "cell_type": "code",
   "execution_count": 1,
   "id": "8e0fe0f9-fb84-47f7-a141-27ad003d0c5e",
   "metadata": {},
   "outputs": [
    {
     "name": "stdin",
     "output_type": "stream",
     "text": [
      "enter the length of first side 4\n",
      "enter the length of second side 10\n",
      "ener the length of third side 15\n"
     ]
    },
    {
     "name": "stdout",
     "output_type": "stream",
     "text": [
      "triangle cannot be formed\n"
     ]
    }
   ],
   "source": [
    "#triangle type\n",
    "#all side equal= equilateral\n",
    "#two= isosceles\n",
    "#no side = scalen\n",
    "#a= side 1, b= side 2, c = side3\n",
    "a=int(input(\"enter the length of first side\"))\n",
    "b=int(input(\"enter the length of second side\"))\n",
    "c=int(input(\"ener the length of third side\"))\n",
    "if a + b <= c or a + c <= b or b + c <= a:\n",
    "    print(\"triangle cannot be formed\")\n",
    "else:\n",
    "    if a==b and b==c and c==a:\n",
    "        print(\"triangle so formed willbe an equilateral triangle\")\n",
    "    elif a==b or b==c or c==a:\n",
    "        print(\"triangle so formed will be an isoceles triangle\")\n",
    "    elif a!=b and b!=c and c!=a:\n",
    "        print(\"triangle so formed will be an scalen triangle\")"
   ]
  },
  {
   "cell_type": "code",
   "execution_count": null,
   "id": "eb087980-1334-46c2-b5c6-2b5eb1da9206",
   "metadata": {},
   "outputs": [],
   "source": []
  }
 ],
 "metadata": {
  "kernelspec": {
   "display_name": "Python 3 (ipykernel)",
   "language": "python",
   "name": "python3"
  },
  "language_info": {
   "codemirror_mode": {
    "name": "ipython",
    "version": 3
   },
   "file_extension": ".py",
   "mimetype": "text/x-python",
   "name": "python",
   "nbconvert_exporter": "python",
   "pygments_lexer": "ipython3",
   "version": "3.11.7"
  }
 },
 "nbformat": 4,
 "nbformat_minor": 5
}
